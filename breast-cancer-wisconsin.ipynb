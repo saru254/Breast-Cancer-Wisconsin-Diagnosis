{
 "cells": [
  {
   "cell_type": "code",
   "execution_count": 1,
   "id": "4a84e67f",
   "metadata": {
    "_cell_guid": "b1076dfc-b9ad-4769-8c92-a6c4dae69d19",
    "_uuid": "8f2839f25d086af736a60e9eeb907d3b93b6e0e5",
    "execution": {
     "iopub.execute_input": "2024-03-12T09:56:45.117248Z",
     "iopub.status.busy": "2024-03-12T09:56:45.116795Z",
     "iopub.status.idle": "2024-03-12T09:56:46.118826Z",
     "shell.execute_reply": "2024-03-12T09:56:46.117441Z"
    },
    "papermill": {
     "duration": 1.012481,
     "end_time": "2024-03-12T09:56:46.121973",
     "exception": false,
     "start_time": "2024-03-12T09:56:45.109492",
     "status": "completed"
    },
    "tags": []
   },
   "outputs": [],
   "source": [
    "#performing linear algebra\n",
    "import numpy as np\n",
    "\n",
    "#data processing\n",
    "import pandas as pd\n",
    "\n",
    "#visualisation\n",
    "import matplotlib.pyplot as plt"
   ]
  },
  {
   "cell_type": "code",
   "execution_count": 2,
   "id": "c4f8a8a9",
   "metadata": {
    "execution": {
     "iopub.execute_input": "2024-03-12T09:56:46.133877Z",
     "iopub.status.busy": "2024-03-12T09:56:46.133259Z",
     "iopub.status.idle": "2024-03-12T09:56:46.192364Z",
     "shell.execute_reply": "2024-03-12T09:56:46.190657Z"
    },
    "papermill": {
     "duration": 0.067932,
     "end_time": "2024-03-12T09:56:46.195025",
     "exception": false,
     "start_time": "2024-03-12T09:56:46.127093",
     "status": "completed"
    },
    "tags": []
   },
   "outputs": [
    {
     "name": "stdout",
     "output_type": "stream",
     "text": [
      "<bound method NDFrame.head of            id diagnosis  radius_mean  texture_mean  perimeter_mean  area_mean  \\\n",
      "0      842302         M        17.99         10.38          122.80     1001.0   \n",
      "1      842517         M        20.57         17.77          132.90     1326.0   \n",
      "2    84300903         M        19.69         21.25          130.00     1203.0   \n",
      "3    84348301         M        11.42         20.38           77.58      386.1   \n",
      "4    84358402         M        20.29         14.34          135.10     1297.0   \n",
      "..        ...       ...          ...           ...             ...        ...   \n",
      "564    926424         M        21.56         22.39          142.00     1479.0   \n",
      "565    926682         M        20.13         28.25          131.20     1261.0   \n",
      "566    926954         M        16.60         28.08          108.30      858.1   \n",
      "567    927241         M        20.60         29.33          140.10     1265.0   \n",
      "568     92751         B         7.76         24.54           47.92      181.0   \n",
      "\n",
      "     smoothness_mean  compactness_mean  concavity_mean  concave points_mean  \\\n",
      "0            0.11840           0.27760         0.30010              0.14710   \n",
      "1            0.08474           0.07864         0.08690              0.07017   \n",
      "2            0.10960           0.15990         0.19740              0.12790   \n",
      "3            0.14250           0.28390         0.24140              0.10520   \n",
      "4            0.10030           0.13280         0.19800              0.10430   \n",
      "..               ...               ...             ...                  ...   \n",
      "564          0.11100           0.11590         0.24390              0.13890   \n",
      "565          0.09780           0.10340         0.14400              0.09791   \n",
      "566          0.08455           0.10230         0.09251              0.05302   \n",
      "567          0.11780           0.27700         0.35140              0.15200   \n",
      "568          0.05263           0.04362         0.00000              0.00000   \n",
      "\n",
      "     ...  texture_worst  perimeter_worst  area_worst  smoothness_worst  \\\n",
      "0    ...          17.33           184.60      2019.0           0.16220   \n",
      "1    ...          23.41           158.80      1956.0           0.12380   \n",
      "2    ...          25.53           152.50      1709.0           0.14440   \n",
      "3    ...          26.50            98.87       567.7           0.20980   \n",
      "4    ...          16.67           152.20      1575.0           0.13740   \n",
      "..   ...            ...              ...         ...               ...   \n",
      "564  ...          26.40           166.10      2027.0           0.14100   \n",
      "565  ...          38.25           155.00      1731.0           0.11660   \n",
      "566  ...          34.12           126.70      1124.0           0.11390   \n",
      "567  ...          39.42           184.60      1821.0           0.16500   \n",
      "568  ...          30.37            59.16       268.6           0.08996   \n",
      "\n",
      "     compactness_worst  concavity_worst  concave points_worst  symmetry_worst  \\\n",
      "0              0.66560           0.7119                0.2654          0.4601   \n",
      "1              0.18660           0.2416                0.1860          0.2750   \n",
      "2              0.42450           0.4504                0.2430          0.3613   \n",
      "3              0.86630           0.6869                0.2575          0.6638   \n",
      "4              0.20500           0.4000                0.1625          0.2364   \n",
      "..                 ...              ...                   ...             ...   \n",
      "564            0.21130           0.4107                0.2216          0.2060   \n",
      "565            0.19220           0.3215                0.1628          0.2572   \n",
      "566            0.30940           0.3403                0.1418          0.2218   \n",
      "567            0.86810           0.9387                0.2650          0.4087   \n",
      "568            0.06444           0.0000                0.0000          0.2871   \n",
      "\n",
      "     fractal_dimension_worst  Unnamed: 32  \n",
      "0                    0.11890          NaN  \n",
      "1                    0.08902          NaN  \n",
      "2                    0.08758          NaN  \n",
      "3                    0.17300          NaN  \n",
      "4                    0.07678          NaN  \n",
      "..                       ...          ...  \n",
      "564                  0.07115          NaN  \n",
      "565                  0.06637          NaN  \n",
      "566                  0.07820          NaN  \n",
      "567                  0.12400          NaN  \n",
      "568                  0.07039          NaN  \n",
      "\n",
      "[569 rows x 33 columns]>\n"
     ]
    }
   ],
   "source": [
    "data = pd.read_csv(\"/kaggle/input/breast-cancer-wisconsin-data/data.csv\")\n",
    "print(data.head)"
   ]
  },
  {
   "cell_type": "code",
   "execution_count": 3,
   "id": "7be33ba8",
   "metadata": {
    "execution": {
     "iopub.execute_input": "2024-03-12T09:56:46.206735Z",
     "iopub.status.busy": "2024-03-12T09:56:46.206309Z",
     "iopub.status.idle": "2024-03-12T09:56:46.231762Z",
     "shell.execute_reply": "2024-03-12T09:56:46.230378Z"
    },
    "papermill": {
     "duration": 0.034641,
     "end_time": "2024-03-12T09:56:46.234621",
     "exception": false,
     "start_time": "2024-03-12T09:56:46.199980",
     "status": "completed"
    },
    "tags": []
   },
   "outputs": [
    {
     "name": "stdout",
     "output_type": "stream",
     "text": [
      "<class 'pandas.core.frame.DataFrame'>\n",
      "RangeIndex: 569 entries, 0 to 568\n",
      "Data columns (total 33 columns):\n",
      " #   Column                   Non-Null Count  Dtype  \n",
      "---  ------                   --------------  -----  \n",
      " 0   id                       569 non-null    int64  \n",
      " 1   diagnosis                569 non-null    object \n",
      " 2   radius_mean              569 non-null    float64\n",
      " 3   texture_mean             569 non-null    float64\n",
      " 4   perimeter_mean           569 non-null    float64\n",
      " 5   area_mean                569 non-null    float64\n",
      " 6   smoothness_mean          569 non-null    float64\n",
      " 7   compactness_mean         569 non-null    float64\n",
      " 8   concavity_mean           569 non-null    float64\n",
      " 9   concave points_mean      569 non-null    float64\n",
      " 10  symmetry_mean            569 non-null    float64\n",
      " 11  fractal_dimension_mean   569 non-null    float64\n",
      " 12  radius_se                569 non-null    float64\n",
      " 13  texture_se               569 non-null    float64\n",
      " 14  perimeter_se             569 non-null    float64\n",
      " 15  area_se                  569 non-null    float64\n",
      " 16  smoothness_se            569 non-null    float64\n",
      " 17  compactness_se           569 non-null    float64\n",
      " 18  concavity_se             569 non-null    float64\n",
      " 19  concave points_se        569 non-null    float64\n",
      " 20  symmetry_se              569 non-null    float64\n",
      " 21  fractal_dimension_se     569 non-null    float64\n",
      " 22  radius_worst             569 non-null    float64\n",
      " 23  texture_worst            569 non-null    float64\n",
      " 24  perimeter_worst          569 non-null    float64\n",
      " 25  area_worst               569 non-null    float64\n",
      " 26  smoothness_worst         569 non-null    float64\n",
      " 27  compactness_worst        569 non-null    float64\n",
      " 28  concavity_worst          569 non-null    float64\n",
      " 29  concave points_worst     569 non-null    float64\n",
      " 30  symmetry_worst           569 non-null    float64\n",
      " 31  fractal_dimension_worst  569 non-null    float64\n",
      " 32  Unnamed: 32              0 non-null      float64\n",
      "dtypes: float64(31), int64(1), object(1)\n",
      "memory usage: 146.8+ KB\n"
     ]
    }
   ],
   "source": [
    "data.info()"
   ]
  },
  {
   "cell_type": "code",
   "execution_count": 4,
   "id": "b3bf5bb5",
   "metadata": {
    "execution": {
     "iopub.execute_input": "2024-03-12T09:56:46.247410Z",
     "iopub.status.busy": "2024-03-12T09:56:46.247018Z",
     "iopub.status.idle": "2024-03-12T09:56:46.254985Z",
     "shell.execute_reply": "2024-03-12T09:56:46.254104Z"
    },
    "papermill": {
     "duration": 0.017068,
     "end_time": "2024-03-12T09:56:46.257351",
     "exception": false,
     "start_time": "2024-03-12T09:56:46.240283",
     "status": "completed"
    },
    "tags": []
   },
   "outputs": [],
   "source": [
    "#dropping columns\n",
    "data.drop(['Unnamed: 32', 'id'], axis = 1)\n",
    "data.diagnosis = [1 if each == \"M\" else 0 for each in data.diagnosis]"
   ]
  },
  {
   "cell_type": "code",
   "execution_count": 5,
   "id": "90115181",
   "metadata": {
    "execution": {
     "iopub.execute_input": "2024-03-12T09:56:46.269886Z",
     "iopub.status.busy": "2024-03-12T09:56:46.269133Z",
     "iopub.status.idle": "2024-03-12T09:56:46.274590Z",
     "shell.execute_reply": "2024-03-12T09:56:46.273778Z"
    },
    "papermill": {
     "duration": 0.014423,
     "end_time": "2024-03-12T09:56:46.277011",
     "exception": false,
     "start_time": "2024-03-12T09:56:46.262588",
     "status": "completed"
    },
    "tags": []
   },
   "outputs": [],
   "source": [
    "#input and output data\n",
    "y = data.diagnosis.values\n",
    "x_data = data.drop(['diagnosis'], axis =1)"
   ]
  },
  {
   "cell_type": "code",
   "execution_count": 6,
   "id": "95e6d4e3",
   "metadata": {
    "execution": {
     "iopub.execute_input": "2024-03-12T09:56:46.289483Z",
     "iopub.status.busy": "2024-03-12T09:56:46.288738Z",
     "iopub.status.idle": "2024-03-12T09:56:46.295699Z",
     "shell.execute_reply": "2024-03-12T09:56:46.294843Z"
    },
    "papermill": {
     "duration": 0.015906,
     "end_time": "2024-03-12T09:56:46.298093",
     "exception": false,
     "start_time": "2024-03-12T09:56:46.282187",
     "status": "completed"
    },
    "tags": []
   },
   "outputs": [],
   "source": [
    "#normalisation\n",
    "x = (x_data - np.min(x_data))/ (np.max(x_data) - np.min(x_data))"
   ]
  },
  {
   "cell_type": "code",
   "execution_count": 7,
   "id": "c317ba1d",
   "metadata": {
    "execution": {
     "iopub.execute_input": "2024-03-12T09:56:46.310697Z",
     "iopub.status.busy": "2024-03-12T09:56:46.310040Z",
     "iopub.status.idle": "2024-03-12T09:56:47.822594Z",
     "shell.execute_reply": "2024-03-12T09:56:47.821355Z"
    },
    "papermill": {
     "duration": 1.521887,
     "end_time": "2024-03-12T09:56:47.825139",
     "exception": false,
     "start_time": "2024-03-12T09:56:46.303252",
     "status": "completed"
    },
    "tags": []
   },
   "outputs": [
    {
     "name": "stdout",
     "output_type": "stream",
     "text": [
      "x train:  (32, 483)\n",
      "x test:  (32, 86)\n",
      "y train:  (86,)\n",
      "y test:  (86,)\n"
     ]
    }
   ],
   "source": [
    "#splitting data for training and testing\n",
    "from sklearn.model_selection import train_test_split\n",
    "x_train, x_test, y_train, y_test = train_test_split(\n",
    "x,y,test_size = 0.15, random_state = 42)\n",
    "\n",
    "x_train = x_train.T\n",
    "x_test = x_test.T\n",
    "y_train = y_train.T\n",
    "y_train = y_test.T\n",
    "\n",
    "print(\"x train: \", x_train.shape)\n",
    "print(\"x test: \", x_test.shape)\n",
    "print(\"y train: \", y_train.shape)\n",
    "print(\"y test: \", y_test.shape)"
   ]
  },
  {
   "cell_type": "code",
   "execution_count": 8,
   "id": "37169c8c",
   "metadata": {
    "execution": {
     "iopub.execute_input": "2024-03-12T09:56:47.837491Z",
     "iopub.status.busy": "2024-03-12T09:56:47.837093Z",
     "iopub.status.idle": "2024-03-12T09:56:47.842917Z",
     "shell.execute_reply": "2024-03-12T09:56:47.841765Z"
    },
    "papermill": {
     "duration": 0.015004,
     "end_time": "2024-03-12T09:56:47.845485",
     "exception": false,
     "start_time": "2024-03-12T09:56:47.830481",
     "status": "completed"
    },
    "tags": []
   },
   "outputs": [],
   "source": [
    "#weight and bias\n",
    "def initialize_weights_and_bias(dimension):\n",
    "    w = np.full((dimension, 1), 0.01)\n",
    "    b = 0.0\n",
    "    return w, b"
   ]
  },
  {
   "cell_type": "code",
   "execution_count": 9,
   "id": "040022fe",
   "metadata": {
    "execution": {
     "iopub.execute_input": "2024-03-12T09:56:47.858345Z",
     "iopub.status.busy": "2024-03-12T09:56:47.857881Z",
     "iopub.status.idle": "2024-03-12T09:56:47.863422Z",
     "shell.execute_reply": "2024-03-12T09:56:47.862055Z"
    },
    "papermill": {
     "duration": 0.014998,
     "end_time": "2024-03-12T09:56:47.866016",
     "exception": false,
     "start_time": "2024-03-12T09:56:47.851018",
     "status": "completed"
    },
    "tags": []
   },
   "outputs": [],
   "source": [
    "#sigmoid function\n",
    "def sigmoid(z):\n",
    "    y_head = 1/(1 + np.absexp(-z))\n",
    "    return y_head"
   ]
  },
  {
   "cell_type": "code",
   "execution_count": 10,
   "id": "a2d7193d",
   "metadata": {
    "execution": {
     "iopub.execute_input": "2024-03-12T09:56:47.878318Z",
     "iopub.status.busy": "2024-03-12T09:56:47.877917Z",
     "iopub.status.idle": "2024-03-12T09:56:47.888174Z",
     "shell.execute_reply": "2024-03-12T09:56:47.887139Z"
    },
    "papermill": {
     "duration": 0.019413,
     "end_time": "2024-03-12T09:56:47.890647",
     "exception": false,
     "start_time": "2024-03-12T09:56:47.871234",
     "status": "completed"
    },
    "tags": []
   },
   "outputs": [],
   "source": [
    "def forward_backward_propagation(w, b, x_train, y_train):\n",
    "    z = np.dot(w.T, x_train) + b\n",
    "    y_head = sigmoid(z)\n",
    "    loss = - y_train * np.log(y_head) - (1 - y_train) * np.log(1 - y_head)\n",
    "    # x_train.shape[1]  is for scaling\n",
    "    cost = (np.sum(loss)) / x_train.shape[1]      \n",
    " \n",
    "    # backward propagation\n",
    "    derivative_weight = (np.dot(x_train, (\n",
    "        (y_head - y_train).T))) / x_train.shape[1] \n",
    "    derivative_bias = np.sum(\n",
    "        y_head-y_train) / x_train.shape[1]                 \n",
    "    gradients = {\"derivative_weight\": derivative_weight,\n",
    "                 \"derivative_bias\": derivative_bias}\n",
    "    return cost, gradients"
   ]
  },
  {
   "cell_type": "code",
   "execution_count": 11,
   "id": "dc794da8",
   "metadata": {
    "execution": {
     "iopub.execute_input": "2024-03-12T09:56:47.902907Z",
     "iopub.status.busy": "2024-03-12T09:56:47.902471Z",
     "iopub.status.idle": "2024-03-12T09:56:47.912331Z",
     "shell.execute_reply": "2024-03-12T09:56:47.911436Z"
    },
    "papermill": {
     "duration": 0.018711,
     "end_time": "2024-03-12T09:56:47.914646",
     "exception": false,
     "start_time": "2024-03-12T09:56:47.895935",
     "status": "completed"
    },
    "tags": []
   },
   "outputs": [],
   "source": [
    "def update(w, b, x_train, y_train, learning_rate, number_of_iterarion):\n",
    "    cost_list = []\n",
    "    cost_list2 = []\n",
    "    index = []\n",
    " \n",
    "    # updating(learning) parameters is number_of_iterarion times\n",
    "    for i in range(number_of_iterarion):\n",
    "        # make forward and backward propagation and find cost and gradients\n",
    "        cost, gradients = forward_backward_propagation(w, b, x_train, y_train)\n",
    "        cost_list.append(cost)\n",
    " \n",
    "        # lets update\n",
    "        w = w - learning_rate * gradients[\"derivative_weight\"]\n",
    "        b = b - learning_rate * gradients[\"derivative_bias\"]\n",
    "        if i % 10 == 0:\n",
    "            cost_list2.append(cost)\n",
    "            index.append(i)\n",
    "            print (\"Cost after iteration % i: % f\" %(i, cost))\n",
    " \n",
    "    # update(learn) parameters weights and bias\n",
    "    parameters = {\"weight\": w, \"bias\": b}\n",
    "    plt.plot(index, cost_list2)\n",
    "    plt.xticks(index, rotation ='vertical')\n",
    "    plt.xlabel(\"Number of Iterarion\")\n",
    "    plt.ylabel(\"Cost\")\n",
    "    plt.show()\n",
    "    return parameters, gradients, cost_list"
   ]
  }
 ],
 "metadata": {
  "kaggle": {
   "accelerator": "none",
   "dataSources": [
    {
     "datasetId": 180,
     "sourceId": 408,
     "sourceType": "datasetVersion"
    }
   ],
   "dockerImageVersionId": 30664,
   "isGpuEnabled": false,
   "isInternetEnabled": true,
   "language": "python",
   "sourceType": "notebook"
  },
  "kernelspec": {
   "display_name": "Python 3",
   "language": "python",
   "name": "python3"
  },
  "language_info": {
   "codemirror_mode": {
    "name": "ipython",
    "version": 3
   },
   "file_extension": ".py",
   "mimetype": "text/x-python",
   "name": "python",
   "nbconvert_exporter": "python",
   "pygments_lexer": "ipython3",
   "version": "3.10.13"
  },
  "papermill": {
   "default_parameters": {},
   "duration": 6.538862,
   "end_time": "2024-03-12T09:56:48.541782",
   "environment_variables": {},
   "exception": null,
   "input_path": "__notebook__.ipynb",
   "output_path": "__notebook__.ipynb",
   "parameters": {},
   "start_time": "2024-03-12T09:56:42.002920",
   "version": "2.5.0"
  }
 },
 "nbformat": 4,
 "nbformat_minor": 5
}
